{
 "cells": [
  {
   "attachments": {},
   "cell_type": "markdown",
   "metadata": {},
   "source": [
    "#### Standard Imports"
   ]
  },
  {
   "cell_type": "code",
   "execution_count": 2,
   "metadata": {},
   "outputs": [],
   "source": [
    "from CoinRunnerDynamicTSCE import CoinRunnerDataDynTSCE, CoinRunnerInterpreterDynTSCE\n",
    "from CoinRunnerExplainerHelper import * "
   ]
  },
  {
   "cell_type": "code",
   "execution_count": null,
   "metadata": {},
   "outputs": [],
   "source": [
    "def save_to_txt(anticipations, explanations, USED_METHOD, USED_SUB_DIRECTORY, cUniquePrefix, cAskingFor):\n",
    "    cToSave = \"\" \n",
    "    ## Anticipations first \n",
    "    cToSave = \"Anticipations:\\n\"\n",
    "    for i in range(0, len(anticipations), 100):\n",
    "        cToSave += anticipations[i:i+100] + \"\\n\"\n",
    "    cToSave += \"\\n\\n\"\n",
    "    cToSave += \"Retrospectives:\\n\"\n",
    "    for key in explanations.keys():\n",
    "        cToSave += key + \"\\n\\n\"\n",
    "        for explanation in explanations[key]:\n",
    "            for i in range(0, len(explanation), 100):\n",
    "                cToSave += explanation[i:i+100] + \"\\n\"\n",
    "            cToSave += \"\\n\\n\"\n",
    "\n",
    "    with open(os.path.join(f\"Explanations_{USED_SUB_DIRECTORY}\", f\"{USED_METHOD}_{cUniquePrefix}_{cAskingFor}.txt\"), \"w\") as f:\n",
    "        f.write(cToSave)"
   ]
  },
  {
   "attachments": {},
   "cell_type": "markdown",
   "metadata": {},
   "source": [
    "#### Configurations"
   ]
  },
  {
   "cell_type": "code",
   "execution_count": null,
   "metadata": {},
   "outputs": [],
   "source": [
    "from DynTSCEGraphs.fourteen.info.settings import * \n",
    "\n",
    "USED_SUB_DIRECTORY = \"fourteen\" \n",
    "os.makedirs(f\"Explanations_{USED_SUB_DIRECTORY}\", exist_ok=True)\n",
    "USED_METHOD = \"grangervar2\"\n",
    "DIRPATH_IPYNB = os.path.join(\"..\", \"recordings\", TAG, \"data\")"
   ]
  },
  {
   "attachments": {},
   "cell_type": "markdown",
   "metadata": {},
   "source": [
    "#### Preparing Rollout to be explained. Loading and Preparing Model | Causal Graph to use. "
   ]
  },
  {
   "cell_type": "code",
   "execution_count": null,
   "metadata": {},
   "outputs": [],
   "source": [
    "# Loading the Model dependend Causal Graph. \n",
    "# Loading a specific rollout, which needs to get the same preprocessing as the training data for the model.\n",
    "\n",
    "contextGraphs = getContextGraphs(USED_METHOD, USED_SUB_DIRECTORY, transitions=1, isConcatedModel=False, usedFilters=None, verbose=False)\n",
    "preprocessedDirNames, num_dirs = init_ipynb(DIRPATH_IPYNB, TAG, PREPROTAG, REDUCTIONTAG, equal_settings)"
   ]
  },
  {
   "attachments": {},
   "cell_type": "markdown",
   "metadata": {},
   "source": [
    "#### Setting up our Interpreter Class. (Asking for Why is Mario targeting the enemy?)"
   ]
  },
  {
   "cell_type": "code",
   "execution_count": null,
   "metadata": {},
   "outputs": [],
   "source": [
    "TAG = RecordingTag.RANDOM.value[1]\n",
    "DIRPATH = os.path.join(\"..\", \"recordings\", TAG, \"data\")\n",
    "REDUCTIONTAG = ReducingTag.USERINPUT\n",
    "\n",
    "preprocessedDirNames, num_dirs = init2(DIRPATH, TAG, PREPROTAG, REDUCTIONTAG, equal_settings)\n",
    "\n",
    "cFilename = \"killedEnemyPerf\"\n",
    "cUniquePrefix = \"killedEnemyPerf\"\n",
    "cAskingFor = \"targEnemy\"\n",
    "\n",
    "rollout = read_recording_preprocessed(DIRPATH, cFilename, PREPROTAG, REDUCTIONTAG)\n",
    "correctIDs = findPairVarValue(rollout, cAskingFor, True, verbose=False)\n",
    "print(\"Correct IDs:\", correctIDs)\n",
    "\n",
    "data = CoinRunnerDataDynTSCE(rollout)\n",
    "interpreter = CoinRunnerInterpreterDynTSCE(contextGraphs, data)\n",
    "expRoot = interpreter.getExpTreeBehaviour(cAskingFor, correctIDs[-1], verbose=False)\n",
    "expRoot = interpreter.cutTreeDepth(expRoot, 5)\n",
    "#generateTreeImage(expRoot, filepath=f\"{USED_SUB_DIRECTORY}_{USED_METHOD}_{cUniquePrefix}_{cAskingFor}.png\")\n",
    "explanations = interpreter.getExplanations(expRoot)\n",
    "anticipations = interpreter.getAnticipations(expRoot)\n",
    "\n",
    "save_to_txt(anticipations, explanations, USED_METHOD, USED_SUB_DIRECTORY, cUniquePrefix, cAskingFor)"
   ]
  },
  {
   "cell_type": "code",
   "execution_count": null,
   "metadata": {},
   "outputs": [],
   "source": [
    "TAG = RecordingTag.RANDOM.value[1]\n",
    "DIRPATH = os.path.join(\"..\", \"recordings\", TAG, \"data\")\n",
    "REDUCTIONTAG = ReducingTag.USERINPUT\n",
    "\n",
    "preprocessedDirNames, num_dirs = init2(DIRPATH, TAG, PREPROTAG, REDUCTIONTAG, equal_settings)\n",
    "\n",
    "cFilename = \"killedEnemyPerf\"\n",
    "cUniquePrefix = \"killedEnemyPerf\"\n",
    "cAskingFor = \"targGoal\"\n",
    "\n",
    "rollout = read_recording_preprocessed(DIRPATH, cFilename, PREPROTAG, REDUCTIONTAG)\n",
    "correctIDs = findPairVarValue(rollout, cAskingFor, True, verbose=False)\n",
    "print(\"Correct IDs:\", correctIDs)\n",
    "\n",
    "data = CoinRunnerDataDynTSCE(rollout)\n",
    "interpreter = CoinRunnerInterpreterDynTSCE(contextGraphs, data)\n",
    "expRoot = interpreter.getExpTreeBehaviour(cAskingFor, correctIDs[-1], verbose=False)\n",
    "expRoot = interpreter.cutTreeDepth(expRoot, 5)\n",
    "#generateTreeImage(expRoot, filepath=f\"{USED_SUB_DIRECTORY}_{USED_METHOD}_{cUniquePrefix}_{cAskingFor}.png\")\n",
    "explanations = interpreter.getExplanations(expRoot)\n",
    "anticipations = interpreter.getAnticipations(expRoot)\n",
    "\n",
    "save_to_txt(anticipations, explanations, USED_METHOD, USED_SUB_DIRECTORY, cUniquePrefix, cAskingFor)"
   ]
  },
  {
   "cell_type": "code",
   "execution_count": null,
   "metadata": {},
   "outputs": [],
   "source": [
    "TAG = RecordingTag.RANDOM.value[1]\n",
    "DIRPATH = os.path.join(\"..\", \"recordings\", TAG, \"data\")\n",
    "REDUCTIONTAG = ReducingTag.USERINPUT\n",
    "\n",
    "preprocessedDirNames, num_dirs = init2(DIRPATH, TAG, PREPROTAG, REDUCTIONTAG, equal_settings)\n",
    "\n",
    "cFilename = \"killedEnemyPerf\"\n",
    "cUniquePrefix = \"killedEnemyPerf\"\n",
    "cAskingFor = \"targGoldcoin\"\n",
    "\n",
    "rollout = read_recording_preprocessed(DIRPATH, cFilename, PREPROTAG, REDUCTIONTAG)\n",
    "correctIDs = findPairVarValue(rollout, cAskingFor, True, verbose=False)\n",
    "print(\"Correct IDs:\", correctIDs)\n",
    "\n",
    "data = CoinRunnerDataDynTSCE(rollout)\n",
    "interpreter = CoinRunnerInterpreterDynTSCE(contextGraphs, data)\n",
    "expRoot = interpreter.getExpTreeBehaviour(cAskingFor, correctIDs[-1], verbose=False)\n",
    "expRoot = interpreter.cutTreeDepth(expRoot, 5)\n",
    "#generateTreeImage(expRoot, filepath=f\"{USED_SUB_DIRECTORY}_{USED_METHOD}_{cUniquePrefix}_{cAskingFor}.png\")\n",
    "explanations = interpreter.getExplanations(expRoot)\n",
    "anticipations = interpreter.getAnticipations(expRoot)\n",
    "\n",
    "save_to_txt(anticipations, explanations, USED_METHOD, USED_SUB_DIRECTORY, cUniquePrefix, cAskingFor)"
   ]
  },
  {
   "cell_type": "code",
   "execution_count": null,
   "metadata": {},
   "outputs": [],
   "source": [
    "TAG = RecordingTag.RANDOM.value[1]\n",
    "DIRPATH = os.path.join(\"..\", \"recordings\", TAG, \"data\")\n",
    "REDUCTIONTAG = ReducingTag.USERINPUT\n",
    "\n",
    "preprocessedDirNames, num_dirs = init2(DIRPATH, TAG, PREPROTAG, REDUCTIONTAG, equal_settings)\n",
    "\n",
    "cFilename = \"killedEnemyPerf\"\n",
    "cUniquePrefix = \"killedEnemyPerf\"\n",
    "cAskingFor = \"killedEnemy\"\n",
    "\n",
    "rollout = read_recording_preprocessed(DIRPATH, cFilename, PREPROTAG, REDUCTIONTAG)\n",
    "correctIDs = findPairVarValue(rollout, cAskingFor, True, verbose=False)\n",
    "print(\"Correct IDs:\", correctIDs)\n",
    "\n",
    "data = CoinRunnerDataDynTSCE(rollout)\n",
    "interpreter = CoinRunnerInterpreterDynTSCE(contextGraphs, data)\n",
    "expRoot = interpreter.getExpTreeBehaviour(cAskingFor, correctIDs[0], verbose=False)\n",
    "expRoot = interpreter.cutTreeDepth(expRoot, 5)\n",
    "#generateTreeImage(expRoot, filepath=f\"{USED_SUB_DIRECTORY}_{USED_METHOD}_{cUniquePrefix}_{cAskingFor}.png\")\n",
    "explanations = interpreter.getExplanations(expRoot)\n",
    "anticipations = interpreter.getAnticipations(expRoot)\n",
    "\n",
    "save_to_txt(anticipations, explanations, USED_METHOD, USED_SUB_DIRECTORY, cUniquePrefix, cAskingFor)"
   ]
  },
  {
   "attachments": {},
   "cell_type": "markdown",
   "metadata": {},
   "source": [
    "#### Why is Luigi targeting the Goomba? "
   ]
  },
  {
   "cell_type": "code",
   "execution_count": null,
   "metadata": {},
   "outputs": [],
   "source": [
    "TAG = RecordingTag.RANDOM.value[1]\n",
    "DIRPATH = os.path.join(\"..\", \"recordings\", TAG, \"data\")\n",
    "REDUCTIONTAG = ReducingTag.USERINPUT\n",
    "\n",
    "preprocessedDirNames, num_dirs = init2(DIRPATH, TAG, PREPROTAG, REDUCTIONTAG, equal_settings)\n",
    "\n",
    "cFilename = \"collidedEnemyNotPoweruped\"\n",
    "cUniquePrefix = \"collidedEnemyNotPoweruped\"\n",
    "cAskingFor = \"targEnemy\"\n",
    "\n",
    "rollout = read_recording_preprocessed(DIRPATH, cFilename, PREPROTAG, REDUCTIONTAG)\n",
    "correctIDs = findPairVarValue(rollout, cAskingFor, True, verbose=False)\n",
    "print(\"Correct IDs:\", correctIDs)\n",
    "\n",
    "data = CoinRunnerDataDynTSCE(rollout)\n",
    "interpreter = CoinRunnerInterpreterDynTSCE(contextGraphs, data)\n",
    "expRoot = interpreter.getExpTreeBehaviour(cAskingFor, correctIDs[-1], verbose=False)\n",
    "expRoot = interpreter.cutTreeDepth(expRoot, 5)\n",
    "#generateTreeImage(expRoot, filepath=f\"{USED_SUB_DIRECTORY}_{USED_METHOD}_{cUniquePrefix}_{cAskingFor}.png\")\n",
    "explanations = interpreter.getExplanations(expRoot)\n",
    "anticipations = interpreter.getAnticipations(expRoot)\n",
    "\n",
    "save_to_txt(anticipations, explanations, USED_METHOD, USED_SUB_DIRECTORY, cUniquePrefix, cAskingFor)"
   ]
  },
  {
   "attachments": {},
   "cell_type": "markdown",
   "metadata": {},
   "source": [
    "#### Directly towards goal without hesitation"
   ]
  },
  {
   "cell_type": "code",
   "execution_count": null,
   "metadata": {},
   "outputs": [],
   "source": [
    "TAG = RecordingTag.RANDOM.value[1]\n",
    "DIRPATH = os.path.join(\"..\", \"recordings\", TAG, \"data\")\n",
    "REDUCTIONTAG = ReducingTag.USERINPUT\n",
    "\n",
    "preprocessedDirNames, num_dirs = init2(DIRPATH, TAG, PREPROTAG, REDUCTIONTAG, equal_settings)\n",
    "\n",
    "cFilename = \"directlyhittinggoal\"\n",
    "cUniquePrefix = \"directlyhittinggoal\"\n",
    "cAskingFor = \"targGoal\"\n",
    "\n",
    "rollout = read_recording_preprocessed(DIRPATH, cFilename, PREPROTAG, REDUCTIONTAG)\n",
    "correctIDs = findPairVarValue(rollout, cAskingFor, True, verbose=False)\n",
    "print(\"Correct IDs:\", correctIDs)\n",
    "\n",
    "data = CoinRunnerDataDynTSCE(rollout)\n",
    "interpreter = CoinRunnerInterpreterDynTSCE(contextGraphs, data)\n",
    "expRoot = interpreter.getExpTreeBehaviour(cAskingFor, correctIDs[2], verbose=False)\n",
    "expRoot = interpreter.cutTreeDepth(expRoot, 5)\n",
    "#generateTreeImage(expRoot, filepath=f\"{USED_SUB_DIRECTORY}_{USED_METHOD}_{cUniquePrefix}_{cAskingFor}.png\")\n",
    "explanations = interpreter.getExplanations(expRoot)\n",
    "anticipations = interpreter.getAnticipations(expRoot)\n",
    "\n",
    "save_to_txt(anticipations, explanations, USED_METHOD, USED_SUB_DIRECTORY, cUniquePrefix, cAskingFor)"
   ]
  },
  {
   "attachments": {},
   "cell_type": "markdown",
   "metadata": {},
   "source": [
    "#### Why is the game terminated 'killedEnemyPerf'?"
   ]
  },
  {
   "cell_type": "code",
   "execution_count": null,
   "metadata": {},
   "outputs": [],
   "source": [
    "TAG = RecordingTag.RANDOM.value[1]\n",
    "DIRPATH = os.path.join(\"..\", \"recordings\", TAG, \"data\")\n",
    "REDUCTIONTAG = ReducingTag.USERINPUT\n",
    "\n",
    "preprocessedDirNames, num_dirs = init2(DIRPATH, TAG, PREPROTAG, REDUCTIONTAG, equal_settings)\n",
    "\n",
    "cFilename = \"killedEnemyPerf\"\n",
    "cUniquePrefix = \"killedEnemyPerf\"\n",
    "cAskingFor = \"collPlayerGoal\"\n",
    "\n",
    "rollout = read_recording_preprocessed(DIRPATH, cFilename, PREPROTAG, REDUCTIONTAG)\n",
    "correctIDs = findPairVarValue(rollout, cAskingFor, True, verbose=False)\n",
    "print(\"Correct IDs:\", correctIDs)\n",
    "\n",
    "data = CoinRunnerDataDynTSCE(rollout)\n",
    "interpreter = CoinRunnerInterpreterDynTSCE(contextGraphs, data)\n",
    "expRoot = interpreter.getExpTreeBehaviour(cAskingFor, correctIDs[-1], verbose=False)\n",
    "expRoot = interpreter.cutTreeDepth(expRoot, 5)\n",
    "#generateTreeImage(expRoot, filepath=f\"{USED_SUB_DIRECTORY}_{USED_METHOD}_{cUniquePrefix}_{cAskingFor}.png\")\n",
    "explanations = interpreter.getExplanations(expRoot)\n",
    "anticipations = interpreter.getAnticipations(expRoot)\n",
    "\n",
    "save_to_txt(anticipations, explanations, USED_METHOD, USED_SUB_DIRECTORY, cUniquePrefix, cAskingFor)"
   ]
  },
  {
   "cell_type": "code",
   "execution_count": null,
   "metadata": {},
   "outputs": [],
   "source": [
    "TAG = RecordingTag.RANDOM.value[1]\n",
    "DIRPATH = os.path.join(\"..\", \"recordings\", TAG, \"data\")\n",
    "REDUCTIONTAG = ReducingTag.USERINPUT\n",
    "\n",
    "preprocessedDirNames, num_dirs = init2(DIRPATH, TAG, PREPROTAG, REDUCTIONTAG, equal_settings)\n",
    "\n",
    "cFilename = \"killedEnemyPerf\"\n",
    "cUniquePrefix = \"killedEnemyPerf\"\n",
    "cAskingFor = \"collPlayerEnemy\"\n",
    "\n",
    "rollout = read_recording_preprocessed(DIRPATH, cFilename, PREPROTAG, REDUCTIONTAG)\n",
    "correctIDs = findPairVarValue(rollout, cAskingFor, True, verbose=False)\n",
    "print(\"Correct IDs:\", correctIDs)\n",
    "\n",
    "data = CoinRunnerDataDynTSCE(rollout)\n",
    "interpreter = CoinRunnerInterpreterDynTSCE(contextGraphs, data)\n",
    "expRoot = interpreter.getExpTreeBehaviour(cAskingFor, correctIDs[-1], verbose=False)\n",
    "expRoot = interpreter.cutTreeDepth(expRoot, 5)\n",
    "#generateTreeImage(expRoot, filepath=f\"{USED_SUB_DIRECTORY}_{USED_METHOD}_{cUniquePrefix}_{cAskingFor}.png\")\n",
    "explanations = interpreter.getExplanations(expRoot)\n",
    "anticipations = interpreter.getAnticipations(expRoot)\n",
    "\n",
    "save_to_txt(anticipations, explanations, USED_METHOD, USED_SUB_DIRECTORY, cUniquePrefix, cAskingFor)"
   ]
  },
  {
   "cell_type": "code",
   "execution_count": null,
   "metadata": {},
   "outputs": [],
   "source": [
    "TAG = RecordingTag.RANDOM.value[1]\n",
    "DIRPATH = os.path.join(\"..\", \"recordings\", TAG, \"data\")\n",
    "REDUCTIONTAG = ReducingTag.USERINPUT\n",
    "\n",
    "preprocessedDirNames, num_dirs = init2(DIRPATH, TAG, PREPROTAG, REDUCTIONTAG, equal_settings)\n",
    "\n",
    "cFilename = \"killedEnemyPerf\"\n",
    "cUniquePrefix = \"killedEnemyPerf\"\n",
    "cAskingFor = \"targPowerup\"\n",
    "\n",
    "rollout = read_recording_preprocessed(DIRPATH, cFilename, PREPROTAG, REDUCTIONTAG)\n",
    "correctIDs = findPairVarValue(rollout, cAskingFor, True, verbose=False)\n",
    "print(\"Correct IDs:\", correctIDs)\n",
    "\n",
    "data = CoinRunnerDataDynTSCE(rollout)\n",
    "interpreter = CoinRunnerInterpreterDynTSCE(contextGraphs, data)\n",
    "expRoot = interpreter.getExpTreeBehaviour(cAskingFor, correctIDs[-1], verbose=False)\n",
    "expRoot = interpreter.cutTreeDepth(expRoot, 5)\n",
    "#generateTreeImage(expRoot, filepath=f\"{USED_SUB_DIRECTORY}_{USED_METHOD}_{cUniquePrefix}_{cAskingFor}.png\")\n",
    "explanations = interpreter.getExplanations(expRoot)\n",
    "anticipations = interpreter.getAnticipations(expRoot)\n",
    "\n",
    "save_to_txt(anticipations, explanations, USED_METHOD, USED_SUB_DIRECTORY, cUniquePrefix, cAskingFor)"
   ]
  },
  {
   "cell_type": "code",
   "execution_count": null,
   "metadata": {},
   "outputs": [],
   "source": []
  }
 ],
 "metadata": {
  "kernelspec": {
   "display_name": ".venv",
   "language": "python",
   "name": "python3"
  },
  "language_info": {
   "codemirror_mode": {
    "name": "ipython",
    "version": 3
   },
   "file_extension": ".py",
   "mimetype": "text/x-python",
   "name": "python",
   "nbconvert_exporter": "python",
   "pygments_lexer": "ipython3",
   "version": "3.10.5"
  },
  "orig_nbformat": 4,
  "vscode": {
   "interpreter": {
    "hash": "2b1f2974476294f29e3583db15540f69dff2c980e4070cebfe0946e8de78f50d"
   }
  }
 },
 "nbformat": 4,
 "nbformat_minor": 2
}
