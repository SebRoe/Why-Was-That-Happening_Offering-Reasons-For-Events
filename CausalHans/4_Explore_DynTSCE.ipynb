{
 "cells": [
  {
   "attachments": {},
   "cell_type": "markdown",
   "metadata": {},
   "source": [
    "### This Notebook is a sandbox for different Context T-SCE in a static Causal Hans Setting. \n",
    "\n",
    "Note: This is not really tested. Different Context were more part of the CoinRunner Game.\n",
    "\n",
    "Note: Currently the group of below average 25 years old gets smaller by each iteration. This might be to fixed first."
   ]
  },
  {
   "cell_type": "code",
   "execution_count": 1,
   "metadata": {},
   "outputs": [],
   "source": [
    "from dotenv import load_dotenv\n",
    "load_dotenv()\n",
    "\n",
    "import os\n",
    "from IPython.display import Image\n",
    "from CausalHansDynTSCE import CausalHansDataDynTSCE, CausalHansInterpreterDynTSCE\n",
    "from DynTSCE.CausalNodeDynamicTSCE import CausalNodeDynamicTSCE\n",
    "from DynTSCE.tree_helper import generateTreeImage\n",
    "from Utils.load import load_dataset\n",
    "from Utils.images import getTimeAsString"
   ]
  },
  {
   "cell_type": "code",
   "execution_count": 2,
   "metadata": {},
   "outputs": [],
   "source": [
    "IMG_BASE_PATH = os.path.join(\"tmp_img\", \"DYNTSCE\")\n",
    "os.makedirs(IMG_BASE_PATH, exist_ok=True)"
   ]
  },
  {
   "cell_type": "code",
   "execution_count": 3,
   "metadata": {},
   "outputs": [],
   "source": [
    "PATH_TO_DATA = os.path.join(\"tmp_data\", \"dyntsce_causalhans.pkl\")\n",
    "dataset = load_dataset(PATH_TO_DATA)\n",
    "data = CausalHansDataDynTSCE(dataset)"
   ]
  },
  {
   "cell_type": "code",
   "execution_count": 4,
   "metadata": {},
   "outputs": [
    {
     "name": "stdout",
     "output_type": "stream",
     "text": [
      "Number of examples: 350\n"
     ]
    }
   ],
   "source": [
    "interpreter = CausalHansInterpreterDynTSCE(data)\n",
    "# Different Method here than used before. Looking for Persons in the specific age range. \n",
    "cExamples= interpreter._get_valid_question_ts_and_person(\"Nutrition\", num=350)\n",
    "print(f\"Number of examples: {len(cExamples)}\")"
   ]
  },
  {
   "cell_type": "code",
   "execution_count": 5,
   "metadata": {},
   "outputs": [],
   "source": [
    "from collections import defaultdict\n",
    "\n",
    "explanationSizes = defaultdict(list)\n",
    "for cPerson, cTs in cExamples:\n",
    "    cExpTree = interpreter.getExpTree(cPerson, cTs, \"Nutrition\", max_depth=3)\n",
    "    cExplanations = interpreter.getExplanation(cExpTree)\n",
    "    explanationSizes[len(cExplanations)].append((cPerson, cTs))\n"
   ]
  },
  {
   "cell_type": "code",
   "execution_count": 15,
   "metadata": {},
   "outputs": [
    {
     "name": "stdout",
     "output_type": "stream",
     "text": [
      "2823 15\n",
      "Using Person 2823 at time 15 as example.\n",
      "Hans Nutrition constantly over the last 2 years was below average because of his low Nutrition continously 1 year before and because of his low Age in the objected year.\n",
      "\n",
      "His Age constantly over the last 2 years was below average because of his low Age continously 1 year before.\n",
      "\n",
      "His Nutrition was below average 2 years ago because of his low Nutrition 1 year before and because of his high Age in the same year.\n",
      "\n",
      "His Age was above average 2 years ago because of his high Age 1 year before.\n",
      "\n"
     ]
    }
   ],
   "source": [
    "cPerson ,cTs,  = explanationSizes[4][9]\n",
    "\n",
    "print(cPerson ,cTs)\n",
    "print(f\"Using Person {cPerson} at time {cTs} as example.\")\n",
    "# age_this_year = data.get_person_at_ts_variable(cPerson, cTs, 'Age')\n",
    "# age_1_year = data.get_person_at_ts_variable(cPerson, cTs-1, 'Age')\n",
    "# age_2_year = data.get_person_at_ts_variable(cPerson, cTs-2, 'Age')\n",
    "# age_3_year = data.get_person_at_ts_variable(cPerson, cTs-3, 'Age')\n",
    "\n",
    "# mean_this_year = data.get_mean(cTs, 'Age', age_this_year)\n",
    "# mean_1_year = data.get_mean(cTs-1, 'Age', age_1_year)\n",
    "# mean_2_year = data.get_mean(cTs-2, 'Age', age_2_year)\n",
    "# mean_3_year = data.get_mean(cTs-3, 'Age', age_3_year)\n",
    "\n",
    "# print(f\"Participants age this year: {age_this_year}, mean age: {mean_this_year}\")\n",
    "# print(f\"Participants age 1 year ago: {age_1_year}, mean age: {mean_1_year}\")\n",
    "# print(f\"Participants age 2 years ago: {age_2_year}, mean age: {mean_2_year}\")\n",
    "# print(f\"Participants age 3 years ago: {age_3_year}, mean age: {mean_3_year}\")\n",
    "\n",
    "\n",
    "cExpTree = interpreter.getExpTree(cPerson, cTs, \"Nutrition\", max_depth=3)\n",
    "\n",
    "filepath = os.path.join(\"tmp_img\", \"DYNTSCE\",  f\"dyntssce_{getTimeAsString()}.png\")\n",
    "#generateTreeImage(cExpTree, filepath=filepath)\n",
    "#display(Image(filename=filepath))\n",
    "\n",
    "cExplanations = interpreter.getExplanation(cExpTree)\n",
    "for cExplanation in cExplanations:\n",
    "    print(cExplanation)\n",
    "    print() "
   ]
  },
  {
   "cell_type": "code",
   "execution_count": null,
   "metadata": {},
   "outputs": [],
   "source": []
  }
 ],
 "metadata": {
  "kernelspec": {
   "display_name": ".venv",
   "language": "python",
   "name": "python3"
  },
  "language_info": {
   "codemirror_mode": {
    "name": "ipython",
    "version": 3
   },
   "file_extension": ".py",
   "mimetype": "text/x-python",
   "name": "python",
   "nbconvert_exporter": "python",
   "pygments_lexer": "ipython3",
   "version": "3.10.5"
  },
  "orig_nbformat": 4
 },
 "nbformat": 4,
 "nbformat_minor": 2
}
