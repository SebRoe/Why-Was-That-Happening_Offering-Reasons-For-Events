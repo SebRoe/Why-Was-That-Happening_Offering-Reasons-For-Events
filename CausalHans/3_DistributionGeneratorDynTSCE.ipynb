{
 "cells": [
  {
   "attachments": {},
   "cell_type": "markdown",
   "metadata": {},
   "source": [
    "#### This Python Notebook is used to generate Causal Hans Example Distributions (Static, Static Temporal)."
   ]
  },
  {
   "cell_type": "code",
   "execution_count": 1,
   "metadata": {},
   "outputs": [],
   "source": [
    "import pickle, os\n",
    "import pandas as pd\n",
    "import numpy as np\n",
    "os.makedirs('tmp_data', exist_ok=True)"
   ]
  },
  {
   "attachments": {},
   "cell_type": "markdown",
   "metadata": {},
   "source": [
    "#### Dynamic Context, We are here specially interested in two different contexts.\n",
    "\n",
    "We continue similar with the T-SCE Dataset for Ages > 25 years,  and change it for Ages <= 25 years."
   ]
  },
  {
   "attachments": {},
   "cell_type": "markdown",
   "metadata": {},
   "source": [
    "```\n",
    "Structure (Type np.Array):\n",
    "[\n",
    "    Patient Level\n",
    "    [   \n",
    "        Patient Timestep Iterations\n",
    "        [a,f,h,m], [],\n",
    "    ], \n",
    "    [\n",
    "        [], [],\n",
    "    ], \n",
    "\n",
    "]\n",
    "```"
   ]
  },
  {
   "cell_type": "code",
   "execution_count": 2,
   "metadata": {},
   "outputs": [],
   "source": [
    "num_samples = 10000\n",
    "noise = 0.03\n",
    "infl_past = 0.6\n",
    "infl_present = 0.4\n",
    "n_timesteps = 50\n",
    "\n",
    "def age(size):\n",
    "    return np.random.uniform(low=15, high=65, size=size) # We need to change the Age Distribution otherwise it wont change anything..\n",
    "\n",
    "def food_habit(age):\n",
    "    return 0.5 * age\n",
    "\n",
    "def health(age, food_habit):\n",
    "    return -0.2 * age + 0.6 * food_habit\n",
    "\n",
    "def mobility(health):\n",
    "    return 0.5 * health\n",
    "\n",
    "def add_noise(values, scale_factor):\n",
    "    avg_value = np.mean(values)\n",
    "    scale = avg_value * scale_factor\n",
    "    return values + np.random.normal(loc=0, scale=scale, size=len(values))\n",
    "\n",
    "# Generating the initial dataset for t=0\n",
    "age_0 = age(num_samples)\n",
    "food_habit_0 = food_habit(age_0)\n",
    "food_habit_0 = add_noise(food_habit_0, noise)\n",
    "health_0 = health(age_0, food_habit_0)\n",
    "health_0 = add_noise(health_0, noise)\n",
    "mobility_0 = mobility(health_0)\n",
    "mobility_0 = add_noise(mobility_0, noise)\n",
    "\n",
    "data_0 = pd.DataFrame({\"A\": age_0, \"F\": food_habit_0, \"H\": health_0, \"M\": mobility_0})\n",
    "\n",
    "# Functions for generating data for t>0\n",
    "def f1(Ap):\n",
    "    return Ap + 1\n",
    "\n",
    "def f2(Fp, Ac):\n",
    "    calc = [] \n",
    "    for i in range(len(Fp)):\n",
    "        if Ac[i] <= 25:\n",
    "            calc.append(infl_past * Fp[i] + infl_present * (-0.5 * Ac[i]))\n",
    "        else:\n",
    "            calc.append(infl_past * Fp[i] + infl_present * (0.5 * Ac[i]))\n",
    "    calc = np.array(calc)\n",
    "    return calc\n",
    "\n",
    "def f3(Hp, Ac, Fc):\n",
    "    return infl_past * Hp + infl_present * (-0.2 * Ac + 0.6 * Fc)\n",
    "\n",
    "def f4(Mp, Hc):\n",
    "    return infl_past * Mp + infl_present * (0.5 * Hc)\n",
    "\n",
    "data = [[i] for i in data_0.to_numpy()]\n",
    "for _ in range(n_timesteps):\n",
    "    last_data = [data[patientID][-1] for patientID in range(len(data))]\n",
    "    Ap, Fp, Hp, Mp = zip(*last_data)\n",
    "    Ac = f1(np.array(Ap))\n",
    "    Fc = f2(np.array(Fp), Ac)\n",
    "    Fc = add_noise(Fc, noise)\n",
    "    Hc = f3(np.array(Hp), Ac, Fc)\n",
    "    Hc = add_noise(Hc, noise)\n",
    "    Mc = f4(np.array(Mp), Hc)\n",
    "    Mc = add_noise(Mc, noise)\n",
    "    next_timestep = [[a, f, h, m] for a, f, h, m in zip(Ac, Fc, Hc, Mc)]\n",
    "    for patientID in range(len(data)):\n",
    "        data[patientID].append(next_timestep[patientID])\n",
    "\n",
    "extended_data = np.array(data)\n",
    "pickle.dump(extended_data, open(os.path.join(\"tmp_data\", \"dyntsce_causalhans.pkl\"), \"wb\"))"
   ]
  }
 ],
 "metadata": {
  "kernelspec": {
   "display_name": "Python 3.8.8 ('XILenv')",
   "language": "python",
   "name": "python3"
  },
  "language_info": {
   "codemirror_mode": {
    "name": "ipython",
    "version": 3
   },
   "file_extension": ".py",
   "mimetype": "text/x-python",
   "name": "python",
   "nbconvert_exporter": "python",
   "pygments_lexer": "ipython3",
   "version": "3.10.5"
  },
  "orig_nbformat": 4,
  "vscode": {
   "interpreter": {
    "hash": "ae42105c45904bb7e14a8a2f3aa79822cfcd0412038b1c6b465e9840b92c619e"
   }
  }
 },
 "nbformat": 4,
 "nbformat_minor": 2
}
