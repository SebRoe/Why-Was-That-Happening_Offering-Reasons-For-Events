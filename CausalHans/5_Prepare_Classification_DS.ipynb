{
 "cells": [
  {
   "attachments": {},
   "cell_type": "markdown",
   "metadata": {},
   "source": [
    "In order to run the Counterfactual Explanations we need a classification Problem. Therefore we load the original data and create a classification problem by binning the variables. We have to change the data according to this scheme: Each Variable at Each Timestep is 0 if its below the mean of the same variable across all patient in the same time step otherwise its 1. Since we are dealing with time series and our true casual graph has effects only from the last time step we have to create those lagged values for each sample."
   ]
  },
  {
   "cell_type": "code",
   "execution_count": 2,
   "metadata": {},
   "outputs": [],
   "source": [
    "import numpy as np\n",
    "import pandas as pd\n",
    "import pickle, os "
   ]
  },
  {
   "cell_type": "code",
   "execution_count": 3,
   "metadata": {},
   "outputs": [],
   "source": [
    "# Load the pickle file\n",
    "with open(os.path.join(\"tmp_data\",\"tsce_causalhans.pkl\"), \"rb\") as f:\n",
    "    extended_data = pickle.load(f)\n",
    "\n",
    "# Calculate the mean along the patients axis (axis=0) for each variable and each timestep\n",
    "mean_values = np.mean(extended_data, axis=0)\n",
    "\n",
    "# Replace values based on the mean of each timestep for each variable\n",
    "binary_extended_data = np.where(extended_data > mean_values, 1, 0)\n",
    "\n",
    "# Create lagged datasets\n",
    "lagged_data = np.roll(binary_extended_data.astype(float), shift=1, axis=1)  # Convert to float datatype\n",
    "lagged_data[:, 0, :] = np.nan\n",
    "\n",
    "# Combine lagged and original datasets\n",
    "combined_data = np.concatenate([lagged_data, binary_extended_data], axis=2)\n",
    "\n",
    "# Prepare the dataframe\n",
    "columns = [\"Lagged_Age\", \"Lagged_Nutrition\", \"Lagged_Health\", \"Lagged_Mobility\", \"Age\", \"Nutrition\", \"Health\", \"Mobility\"]\n",
    "final_data = []\n",
    "\n",
    "for patient in combined_data:\n",
    "    patient_df = pd.DataFrame(patient, columns=columns)\n",
    "    patient_df = patient_df.dropna()  # Remove rows with NaN values due to the lag\n",
    "    final_data.append(patient_df)\n",
    "\n",
    "# Concatenate all patient data into one dataframe\n",
    "all_patients_df = pd.concat(final_data, ignore_index=True)\n",
    "\n",
    "# Save the dataframe as a pickle file\n",
    "all_patients_df.to_pickle(os.path.join(\"tmp_data\", \"counterfactual_tssce_tst.pkl\"))\n",
    "all_patients_df.to_csv(os.path.join(\"tmp_data\", \"shapley_tssce_classification.csv\"))"
   ]
  }
 ],
 "metadata": {
  "kernelspec": {
   "display_name": ".venv",
   "language": "python",
   "name": "python3"
  },
  "language_info": {
   "codemirror_mode": {
    "name": "ipython",
    "version": 3
   },
   "file_extension": ".py",
   "mimetype": "text/x-python",
   "name": "python",
   "nbconvert_exporter": "python",
   "pygments_lexer": "ipython3",
   "version": "3.10.5"
  },
  "orig_nbformat": 4
 },
 "nbformat": 4,
 "nbformat_minor": 2
}
